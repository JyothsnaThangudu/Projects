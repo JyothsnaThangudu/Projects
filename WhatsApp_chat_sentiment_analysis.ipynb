{
  "nbformat": 4,
  "nbformat_minor": 0,
  "metadata": {
    "colab": {
      "provenance": [],
      "authorship_tag": "ABX9TyNWyvtguivmZ46wbB4lt6fn",
      "include_colab_link": true
    },
    "kernelspec": {
      "name": "python3",
      "display_name": "Python 3"
    },
    "language_info": {
      "name": "python"
    }
  },
  "cells": [
    {
      "cell_type": "markdown",
      "metadata": {
        "id": "view-in-github",
        "colab_type": "text"
      },
      "source": [
        "<a href=\"https://colab.research.google.com/github/JyothsnaThangudu/Projects/blob/main/WhatsApp_chat_sentiment_analysis.ipynb\" target=\"_parent\"><img src=\"https://colab.research.google.com/assets/colab-badge.svg\" alt=\"Open In Colab\"/></a>"
      ]
    },
    {
      "cell_type": "markdown",
      "source": [
        "Import Packages\n"
      ],
      "metadata": {
        "id": "yKOd2-WZBTEZ"
      }
    },
    {
      "cell_type": "code",
      "execution_count": 3,
      "metadata": {
        "id": "Jw2rN42A--28"
      },
      "outputs": [],
      "source": [
        "import pandas as pd\n",
        "import numpy as np\n",
        "import re\n",
        "\n",
        "import matplotlib.pyplot as plt\n",
        "from PIL import Image\n",
        "\n",
        "from collections import Counter\n",
        "from wordcloud import STOPWORDS, ImageColorGenerator, wordcloud"
      ]
    },
    {
      "cell_type": "markdown",
      "source": [
        "Import Dataset"
      ],
      "metadata": {
        "id": "z7QcTlZFBXL0"
      }
    },
    {
      "cell_type": "code",
      "source": [
        "conversation = 'WhatsApp Chat with Ramya.txt'"
      ],
      "metadata": {
        "id": "pnbDWemtAgGD"
      },
      "execution_count": 4,
      "outputs": []
    },
    {
      "cell_type": "markdown",
      "source": [
        "Find Time and Authors"
      ],
      "metadata": {
        "id": "N2yHJNEqCykq"
      }
    },
    {
      "cell_type": "code",
      "source": [
        "def date_time(s):\n",
        "  pattern = r'^\\d{2}/\\d{2}/\\d{4}, \\d{2}:\\d{2} (AM|PM|am|pm) - '\n",
        "  result = re.match(pattern,s)\n",
        "  if result:\n",
        "    return True\n",
        "  return False"
      ],
      "metadata": {
        "id": "1hMC1nDYC6Fz"
      },
      "execution_count": 14,
      "outputs": []
    },
    {
      "cell_type": "code",
      "source": [
        "def find_author(s):\n",
        "  s = s.split(\":\")\n",
        "  if len(s) == 2:\n",
        "    return True\n",
        "  else:\n",
        "    return False"
      ],
      "metadata": {
        "id": "-VG9JmSWELFk"
      },
      "execution_count": 15,
      "outputs": []
    },
    {
      "cell_type": "code",
      "source": [
        "def messages(line):\n",
        "  splitline = line.split(' - ')\n",
        "  dateTime = splitline[0]\n",
        "  date,time = dateTime.split(',')\n",
        "  message = \" \".join(splitline[1:])\n",
        "\n",
        "  if find_author(message):\n",
        "    splitmessage = message.split(\":\")\n",
        "    author = splitmessage[0]\n",
        "    message = \" \".join(splitmessage[1:])\n",
        "  else:\n",
        "    author = None\n",
        "\n",
        "  return date,time,author,message\n",
        "\n"
      ],
      "metadata": {
        "id": "Ja0aR0MrEZ6K"
      },
      "execution_count": 16,
      "outputs": []
    },
    {
      "cell_type": "markdown",
      "source": [
        "Prepare the Dataset"
      ],
      "metadata": {
        "id": "oxKvjadFGw7w"
      }
    },
    {
      "cell_type": "code",
      "source": [
        "data = []\n",
        "conversation = 'WhatsApp Chat with Ramya.txt'\n",
        "\n",
        "with open(conversation,encoding=\"utf-8\") as fp:\n",
        "  fp.readline()\n",
        "  messageBuffer = []\n",
        "  date,time,author = None,None,None\n",
        "\n",
        "  while True:\n",
        "    line = fp.readline()\n",
        "    if not line:\n",
        "      break\n",
        "    line = line.strip()\n",
        "    if date_time(line):\n",
        "      if len(messageBuffer) > 0:\n",
        "        date.append([date,time,author,' '.join(messageBuffer)])\n",
        "      messageBuffer.clear()\n",
        "      date,time,author,message = messages(line)\n",
        "      messageBuffer.append(message)\n",
        "    else:\n",
        "      messageBuffer.append(line)\n",
        "\n",
        "\n",
        "\n"
      ],
      "metadata": {
        "id": "jTlVQCcUGoh7"
      },
      "execution_count": 17,
      "outputs": []
    },
    {
      "cell_type": "code",
      "source": [
        "import nltk\n",
        "nltk.download('vader_lexicon')"
      ],
      "metadata": {
        "colab": {
          "base_uri": "https://localhost:8080/"
        },
        "id": "P1_flY1aOBuw",
        "outputId": "17756f81-6c10-4f64-bc1b-2d8d11333461"
      },
      "execution_count": 19,
      "outputs": [
        {
          "output_type": "stream",
          "name": "stderr",
          "text": [
            "[nltk_data] Downloading package vader_lexicon to /root/nltk_data...\n"
          ]
        },
        {
          "output_type": "execute_result",
          "data": {
            "text/plain": [
              "True"
            ]
          },
          "metadata": {},
          "execution_count": 19
        }
      ]
    },
    {
      "cell_type": "code",
      "source": [
        "df = pd.DataFrame(data,columns = ['Date','Time','Author','Message'])\n",
        "df['Date'] = pd.to_datetime(df['Date'])\n",
        "data = df.dropna()\n",
        "\n",
        "from nltk.sentiment.vader import SentimentIntensityAnalyzer\n",
        "\n",
        "sentiments = SentimentIntensityAnalyzer()\n",
        "\n",
        "data[\"Positive\"] = [sentiments.polarity_scores(i)[\"pos\"] for i in data[\"Message\"]]\n",
        "data[\"Negative\"] = [sentiments.polarity_scores(i)[\"neg\"] for i in data[\"Message\"]]\n",
        "data[\"Neutral\"] = [sentiments.polarity_scores(i)[\"neu\"] for i in data[\"Message\"]]\n",
        "\n",
        "print(data.head(10))"
      ],
      "metadata": {
        "colab": {
          "base_uri": "https://localhost:8080/"
        },
        "id": "S10t0AsRLgxc",
        "outputId": "f1862b3a-2593-4811-e7f1-7571f060b02d"
      },
      "execution_count": 20,
      "outputs": [
        {
          "output_type": "stream",
          "name": "stdout",
          "text": [
            "Empty DataFrame\n",
            "Columns: [Date, Time, Author, Message, Positive, Negative, Neutral]\n",
            "Index: []\n"
          ]
        }
      ]
    },
    {
      "cell_type": "markdown",
      "source": [
        "Validate the Sentiment"
      ],
      "metadata": {
        "id": "Ef_0lpCEPAuW"
      }
    },
    {
      "cell_type": "code",
      "source": [
        "x = sum(data[\"Positive\"])\n",
        "y = sum(data[\"Negative\"])\n",
        "z = sum(data[\"Neutral\"])\n",
        "\n",
        "def score(a,b,c):\n",
        "  if a>b and a>c:\n",
        "    print(\"POSITIVE\")\n",
        "  elif b>a and b>c:\n",
        "     print(\"NEGATIVE\")\n",
        "  else:\n",
        "    print(\"NEUTRAL\")\n",
        "score(x,y,z)"
      ],
      "metadata": {
        "colab": {
          "base_uri": "https://localhost:8080/"
        },
        "id": "SgEy9vUHO_QP",
        "outputId": "8d01ea35-9f1d-4a72-884f-e3831601b948"
      },
      "execution_count": 21,
      "outputs": [
        {
          "output_type": "stream",
          "name": "stdout",
          "text": [
            "NEUTRAL\n"
          ]
        }
      ]
    }
  ]
}